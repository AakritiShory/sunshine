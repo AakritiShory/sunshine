{
 "cells": [
  {
   "cell_type": "code",
   "execution_count": null,
   "id": "a3d173ac",
   "metadata": {},
   "outputs": [],
   "source": [
    "#coding questions"
   ]
  },
  {
   "cell_type": "code",
   "execution_count": 2,
   "id": "a72c8017",
   "metadata": {},
   "outputs": [
    {
     "ename": "NameError",
     "evalue": "name 'i' is not defined",
     "output_type": "error",
     "traceback": [
      "\u001b[1;31m---------------------------------------------------------------------------\u001b[0m",
      "\u001b[1;31mNameError\u001b[0m                                 Traceback (most recent call last)",
      "Input \u001b[1;32mIn [2]\u001b[0m, in \u001b[0;36m<cell line: 3>\u001b[1;34m()\u001b[0m\n\u001b[0;32m      1\u001b[0m li\u001b[38;5;241m=\u001b[39m[\u001b[38;5;241m1\u001b[39m,\u001b[38;5;241m2\u001b[39m,\u001b[38;5;241m3\u001b[39m,\u001b[38;5;241m4\u001b[39m,\u001b[38;5;241m5\u001b[39m]\n\u001b[0;32m      2\u001b[0m x\u001b[38;5;241m=\u001b[39mli[\u001b[38;5;241m-\u001b[39m\u001b[38;5;241m1\u001b[39m]\n\u001b[1;32m----> 3\u001b[0m li[\u001b[43mi\u001b[49m]\u001b[38;5;241m-\u001b[39mlis[\u001b[38;5;241m-\u001b[39mi]\n",
      "\u001b[1;31mNameError\u001b[0m: name 'i' is not defined"
     ]
    }
   ],
   "source": [
    "li=[1,2,3,4,5]\n",
    "x="
   ]
  },
  {
   "cell_type": "code",
   "execution_count": 1,
   "id": "3faf3800",
   "metadata": {},
   "outputs": [
    {
     "name": "stdout",
     "output_type": "stream",
     "text": [
      "[5, 1, 2, 3, 4]\n"
     ]
    }
   ],
   "source": [
    "li=[1,2,3,4,5]\n",
    "li=[li[-1]]+li[:-1]\n",
    "print(li)"
   ]
  },
  {
   "cell_type": "code",
   "execution_count": 9,
   "id": "babcac84",
   "metadata": {},
   "outputs": [
    {
     "name": "stdout",
     "output_type": "stream",
     "text": [
      "[5, 1, 2, 3, 4]\n"
     ]
    }
   ],
   "source": [
    "li=[1,2,3,4,5]\n",
    "x=li[-1]\n",
    "for i in range(len(li)-1,-1,-1):\n",
    "    li[i]=li[i-1]\n",
    "li[0]=x\n",
    "print(li)"
   ]
  },
  {
   "cell_type": "code",
   "execution_count": 10,
   "id": "581a0864",
   "metadata": {},
   "outputs": [
    {
     "name": "stdout",
     "output_type": "stream",
     "text": [
      "[6, 5, 4, 3, 2, 1, 0]\n"
     ]
    }
   ],
   "source": [
    "numbers=[0,1,2,3,4,5,6]\n",
    "L=len(numbers)\n",
    "for i in range(int(L/2)):\n",
    "    n=numbers[i]\n",
    "    numbers[i]=numbers[L-i-1]\n",
    "    numbers[L-i-1]=n\n",
    "print(numbers)"
   ]
  },
  {
   "cell_type": "code",
   "execution_count": 11,
   "id": "f67be551",
   "metadata": {},
   "outputs": [
    {
     "name": "stdout",
     "output_type": "stream",
     "text": [
      "[3, 7, 8, 6, 1, 2]\n"
     ]
    }
   ],
   "source": [
    "#mcq\n",
    "lst=[3,4,6,1,2]\n",
    "lst[1:2]=[7,8]\n",
    "print(lst)"
   ]
  },
  {
   "cell_type": "code",
   "execution_count": 12,
   "id": "fdc643f5",
   "metadata": {},
   "outputs": [
    {
     "name": "stdout",
     "output_type": "stream",
     "text": [
      "5\n"
     ]
    }
   ],
   "source": [
    "data=[[[1,2],[3,4]],[[5,6],[7,8]]]\n",
    "print(data[1][0][0])"
   ]
  },
  {
   "cell_type": "code",
   "execution_count": 14,
   "id": "0d989f0d",
   "metadata": {},
   "outputs": [
    {
     "name": "stdout",
     "output_type": "stream",
     "text": [
      "[[0, 1, 2], [1, 2, 3], [2, 3, 4]]\n"
     ]
    }
   ],
   "source": [
    "m=[[x,x+1,x+2]for x in range(0,3)]\n",
    "print(m)"
   ]
  },
  {
   "cell_type": "code",
   "execution_count": 15,
   "id": "6ae7cb7a",
   "metadata": {},
   "outputs": [
    {
     "name": "stdout",
     "output_type": "stream",
     "text": [
      "8\n"
     ]
    }
   ],
   "source": [
    "list1=[1,2,3,4]\n",
    "list2=[5,6,7,8]\n",
    "print(len(list1+list2))"
   ]
  },
  {
   "cell_type": "code",
   "execution_count": 4,
   "id": "0a50a6f7",
   "metadata": {},
   "outputs": [
    {
     "name": "stdout",
     "output_type": "stream",
     "text": [
      "5\n"
     ]
    }
   ],
   "source": [
    "numbers=[1,2,3,4]\n",
    "numbers.append([5,6,7,8])\n",
    "print(len(numbers))"
   ]
  },
  {
   "cell_type": "code",
   "execution_count": 7,
   "id": "f24c74b5",
   "metadata": {},
   "outputs": [
    {
     "data": {
      "text/plain": [
       "3"
      ]
     },
     "execution_count": 7,
     "metadata": {},
     "output_type": "execute_result"
    }
   ],
   "source": [
    "l1=[2,2,5,2,5,25,1,3]\n",
    "l1.count(2)"
   ]
  },
  {
   "cell_type": "code",
   "execution_count": 9,
   "id": "1c8efe1b",
   "metadata": {},
   "outputs": [
    {
     "data": {
      "text/plain": [
       "3"
      ]
     },
     "execution_count": 9,
     "metadata": {},
     "output_type": "execute_result"
    }
   ],
   "source": [
    "l1=[3,4,5,20,5]\n",
    "l1.index(20)"
   ]
  },
  {
   "cell_type": "code",
   "execution_count": 1,
   "id": "7c55a867",
   "metadata": {},
   "outputs": [
    {
     "data": {
      "text/plain": [
       "['h', 'e', 'l', 'l', 'o']"
      ]
     },
     "execution_count": 1,
     "metadata": {},
     "output_type": "execute_result"
    }
   ],
   "source": [
    "list(\"hello\")"
   ]
  },
  {
   "cell_type": "code",
   "execution_count": 22,
   "id": "8fbeee40",
   "metadata": {},
   "outputs": [
    {
     "name": "stdout",
     "output_type": "stream",
     "text": [
      "5\n"
     ]
    }
   ],
   "source": [
    "l=['h', 'e', 'l', 'l', 'o']\n",
    "print (len(l))"
   ]
  },
  {
   "cell_type": "code",
   "execution_count": 25,
   "id": "53703bbe",
   "metadata": {},
   "outputs": [
    {
     "data": {
      "text/plain": [
       "152"
      ]
     },
     "execution_count": 25,
     "metadata": {},
     "output_type": "execute_result"
    }
   ],
   "source": [
    "l=[45,65,12,30]\n",
    "sum(l)"
   ]
  },
  {
   "cell_type": "code",
   "execution_count": 33,
   "id": "afeae535",
   "metadata": {},
   "outputs": [
    {
     "name": "stdout",
     "output_type": "stream",
     "text": [
      "[12, 30]\n",
      "[45, 65]\n",
      "[45, 65]\n"
     ]
    },
    {
     "data": {
      "text/plain": [
       "[45, 65, 12]"
      ]
     },
     "execution_count": 33,
     "metadata": {},
     "output_type": "execute_result"
    }
   ],
   "source": [
    "l=[45,65,12,30]\n",
    "print(l[2:])\n",
    "print(l[:2])\n",
    "print(l[:-2])\n",
    "l[:-1]"
   ]
  },
  {
   "cell_type": "code",
   "execution_count": 36,
   "id": "9815b3bc",
   "metadata": {},
   "outputs": [
    {
     "name": "stdout",
     "output_type": "stream",
     "text": [
      "k\n"
     ]
    }
   ],
   "source": [
    "names=[\"aak\",\"beta\",\"car\",\"duck\"]\n",
    "print(names[-1] [-1])"
   ]
  },
  {
   "cell_type": "code",
   "execution_count": 38,
   "id": "cba41b03",
   "metadata": {},
   "outputs": [
    {
     "data": {
      "text/plain": [
       "[1, 3, 2, 1, 3, 2, 1, 3, 2]"
      ]
     },
     "execution_count": 38,
     "metadata": {},
     "output_type": "execute_result"
    }
   ],
   "source": [
    "l=[1,3,2]\n",
    "l*3"
   ]
  },
  {
   "cell_type": "code",
   "execution_count": 40,
   "id": "f339d0e2",
   "metadata": {},
   "outputs": [
    {
     "data": {
      "text/plain": [
       "True"
      ]
     },
     "execution_count": 40,
     "metadata": {},
     "output_type": "execute_result"
    }
   ],
   "source": [
    "l1=[1,2,3]\n",
    "l2=[1,5,2]\n",
    "l1<l2"
   ]
  },
  {
   "cell_type": "code",
   "execution_count": 1,
   "id": "4d8eae3e",
   "metadata": {},
   "outputs": [
    {
     "ename": "SyntaxError",
     "evalue": "invalid syntax (3289905599.py, line 3)",
     "output_type": "error",
     "traceback": [
      "\u001b[1;36m  Input \u001b[1;32mIn [1]\u001b[1;36m\u001b[0m\n\u001b[1;33m    if j<=i\u001b[0m\n\u001b[1;37m           ^\u001b[0m\n\u001b[1;31mSyntaxError\u001b[0m\u001b[1;31m:\u001b[0m invalid syntax\n"
     ]
    }
   ],
   "source": [
    "for i in range(1,5+1):\n",
    "    for j in range(5,0,-1):\n",
    "        if j<=i\n",
    "         print(j,end=\"\")\n",
    "         else:\n",
    "            print(\",u\",end=\"\")"
   ]
  },
  {
   "cell_type": "code",
   "execution_count": 2,
   "id": "fa2246b2",
   "metadata": {},
   "outputs": [
    {
     "name": "stdout",
     "output_type": "stream",
     "text": [
      "8\n"
     ]
    }
   ],
   "source": [
    "def fun(x):\n",
    "    x+=[1]\n",
    "mylist=[1,2,3,4,7,87,83]\n",
    "fun(mylist)\n",
    "print(len(mylist))"
   ]
  },
  {
   "cell_type": "code",
   "execution_count": 4,
   "id": "b00ac686",
   "metadata": {},
   "outputs": [
    {
     "name": "stdout",
     "output_type": "stream",
     "text": [
      "0\n"
     ]
    }
   ],
   "source": [
    "i=0\n",
    "while i<5:\n",
    "    print(i)\n",
    "    i+=5\n",
    "    if i==3:\n",
    "        continue\n",
    "        break\n",
    "    "
   ]
  },
  {
   "cell_type": "code",
   "execution_count": 6,
   "id": "5eca9401",
   "metadata": {},
   "outputs": [
    {
     "data": {
      "text/plain": [
       "[77, 66, 55, 44, 33]"
      ]
     },
     "execution_count": 6,
     "metadata": {},
     "output_type": "execute_result"
    }
   ],
   "source": [
    "a=[0,11,22,33,44,55,66,77,88,99]\n",
    "a[7:2:-1]"
   ]
  },
  {
   "cell_type": "code",
   "execution_count": null,
   "id": "7aaa18e5",
   "metadata": {},
   "outputs": [],
   "source": [
    "n=int(input())\n",
    "L1=[]\n",
    "for i in range(n):\n",
    "    x=int(input())\n",
    "    L1.append(x)\n",
    "count=1\n",
    "for i in range (0,n-1):\n",
    "    if L1[i]==L1[i+1]:\n",
    "        count+=\n"
   ]
  },
  {
   "cell_type": "code",
   "execution_count": null,
   "id": "b28eda7d",
   "metadata": {},
   "outputs": [],
   "source": []
  },
  {
   "cell_type": "code",
   "execution_count": null,
   "id": "08480a37",
   "metadata": {},
   "outputs": [],
   "source": []
  },
  {
   "cell_type": "code",
   "execution_count": null,
   "id": "24c60797",
   "metadata": {},
   "outputs": [],
   "source": []
  },
  {
   "cell_type": "code",
   "execution_count": null,
   "id": "e2405efb",
   "metadata": {},
   "outputs": [],
   "source": []
  }
 ],
 "metadata": {
  "kernelspec": {
   "display_name": "Python 3 (ipykernel)",
   "language": "python",
   "name": "python3"
  },
  "language_info": {
   "codemirror_mode": {
    "name": "ipython",
    "version": 3
   },
   "file_extension": ".py",
   "mimetype": "text/x-python",
   "name": "python",
   "nbconvert_exporter": "python",
   "pygments_lexer": "ipython3",
   "version": "3.9.12"
  }
 },
 "nbformat": 4,
 "nbformat_minor": 5
}
